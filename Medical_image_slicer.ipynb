{
  "nbformat": 4,
  "nbformat_minor": 0,
  "metadata": {
    "colab": {
      "provenance": [],
      "machine_shape": "hm",
      "authorship_tag": "ABX9TyPWEzaDt+TsHdbnEXc054mA",
      "include_colab_link": true
    },
    "kernelspec": {
      "name": "python3",
      "display_name": "Python 3"
    },
    "language_info": {
      "name": "python"
    },
    "gpuClass": "standard"
  },
  "cells": [
    {
      "cell_type": "markdown",
      "metadata": {
        "id": "view-in-github",
        "colab_type": "text"
      },
      "source": [
        "<a href=\"https://colab.research.google.com/github/salma-abed/Deep-learning-based-automated-detection-and-classification-of-Alzheimer-s-disease-Using-Neuroimaging/blob/main/Medical_image_slicer.ipynb\" target=\"_parent\"><img src=\"https://colab.research.google.com/assets/colab-badge.svg\" alt=\"Open In Colab\"/></a>"
      ]
    },
    {
      "cell_type": "code",
      "execution_count": null,
      "metadata": {
        "id": "fMJYh0YB8RNw"
      },
      "outputs": [],
      "source": [
        "import os\n",
        "import numpy as np\n",
        "from PIL import Image\n",
        "import nibabel as nib"
      ]
    },
    {
      "cell_type": "code",
      "source": [
        "from google.colab import drive\n",
        "drive.mount('/content/drive')"
      ],
      "metadata": {
        "colab": {
          "base_uri": "https://localhost:8080/"
        },
        "id": "2iOHirsa8hin",
        "outputId": "e3491206-b4e7-4d72-f0c4-223e2b75eca5"
      },
      "execution_count": null,
      "outputs": [
        {
          "output_type": "stream",
          "name": "stdout",
          "text": [
            "Drive already mounted at /content/drive; to attempt to forcibly remount, call drive.mount(\"/content/drive\", force_remount=True).\n"
          ]
        }
      ]
    },
    {
      "cell_type": "code",
      "source": [
        "dataset_path = '/content/drive/MyDrive/ADNI_nii_after_pre'"
      ],
      "metadata": {
        "id": "ITvV5jxr8maR"
      },
      "execution_count": null,
      "outputs": []
    },
    {
      "cell_type": "code",
      "source": [
        "class ImageSlicer:\n",
        "    def __init__(self, dataset_path):\n",
        "        self.dataset_path = dataset_path\n",
        "        self.labels = ['AD', 'CN', 'LMCI', 'MCI']\n",
        "        self.output_folder = '/content/drive/MyDrive/output_images_preprocessed'\n",
        "        self.slices_range = range(10)\n",
        "\n",
        "    def slice_images(self):\n",
        "        for label in self.labels:\n",
        "            input_folder = os.path.join(self.dataset_path, label)\n",
        "            output_folder = os.path.join(self.dataset_path, self.output_folder, label)\n",
        "            os.makedirs(output_folder, exist_ok=True)\n",
        "\n",
        "            for filename in os.listdir(input_folder):\n",
        "                if filename.endswith('.nii'):\n",
        "                    filepath = os.path.join(input_folder, filename)\n",
        "                    nii_image = nib.load(filepath)\n",
        "                    np_image = np.array(nii_image.get_fdata())[..., np.newaxis]  # add an additional dimension along axis=-1\n",
        "                    np_image = np.squeeze(np_image, axis=-1)  # squeeze the array along axis=-1\n",
        "                    np_image = np_image.astype(np.float32)\n",
        "                    min_val = np.min(np_image)\n",
        "                    max_val = np.max(np_image)\n",
        "                    np_image = ((np_image - min_val) * (255 / (max_val - min_val))).astype(np.uint8)\n",
        "                    num_slices = np_image.shape[2]\n",
        "                    middle_slice = num_slices // 2  # get the middle slice index\n",
        "                    start_slice = max(0, middle_slice - 5)  # get the starting slice index\n",
        "                    end_slice = min(num_slices - 1, middle_slice + 4)  # get the ending slice index\n",
        "                    folder_name = os.path.splitext(filename)[0] + '_folder_0'\n",
        "                    folder_path = os.path.join(output_folder, folder_name)\n",
        "                    os.makedirs(folder_path, exist_ok=True)\n",
        "                    for i in range(start_slice, end_slice+1):\n",
        "                        slice_image = Image.fromarray(np_image[:, :, i])\n",
        "                        slice_image = slice_image.convert('RGB')  # convert to RGB mode\n",
        "                        slice_filename = f'slice_{i}.jpg'\n",
        "                        slice_filepath = os.path.join(folder_path, slice_filename)\n",
        "                        slice_image.save(slice_filepath)\n"
      ],
      "metadata": {
        "id": "pMrS6kQV8qXt"
      },
      "execution_count": null,
      "outputs": []
    },
    {
      "cell_type": "code",
      "source": [
        "# create an instance of the ImageSlicer class with the path to the dataset\n",
        "slicer = ImageSlicer(dataset_path)\n",
        "\n",
        "# call the slice_images method to slice and store the images\n",
        "slicer.slice_images()\n"
      ],
      "metadata": {
        "id": "uLVaDtqx8u2l"
      },
      "execution_count": null,
      "outputs": []
    }
  ]
}