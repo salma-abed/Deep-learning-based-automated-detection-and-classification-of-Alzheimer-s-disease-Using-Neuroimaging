{
  "cells": [
    {
      "cell_type": "markdown",
      "metadata": {
        "id": "view-in-github",
        "colab_type": "text"
      },
      "source": [
        "<a href=\"https://colab.research.google.com/github/salma-abed/Deep-learning-based-automated-detection-and-classification-of-Alzheimer-s-disease-Using-Neuroimaging/blob/main/VGG16_latest.ipynb\" target=\"_parent\"><img src=\"https://colab.research.google.com/assets/colab-badge.svg\" alt=\"Open In Colab\"/></a>"
      ]
    },
    {
      "cell_type": "code",
      "execution_count": null,
      "metadata": {
        "id": "sYJAxh5vKe9Y"
      },
      "outputs": [],
      "source": [
        "import nibabel as nib\n",
        "import os\n",
        "import matplotlib.pyplot as plt\n",
        "import numpy as np\n",
        "from PIL import Image\n",
        "from shutil import copyfile\n",
        "from sklearn.model_selection import train_test_split\n",
        "from tensorflow.keras.applications.resnet50 import ResNet50\n",
        "from tensorflow.keras.layers import Dense, GlobalAveragePooling2D\n",
        "from tensorflow.keras.models import Model\n",
        "from tensorflow.keras.optimizers import Adam\n",
        "from tensorflow.keras.preprocessing.image import ImageDataGenerator\n",
        "import random\n",
        "from tensorflow import keras\n",
        "import pandas as pd\n",
        "from google.colab import drive\n",
        "import shutil\n",
        "import tensorflow as tf"
      ]
    },
    {
      "cell_type": "code",
      "execution_count": null,
      "metadata": {
        "colab": {
          "base_uri": "https://localhost:8080/"
        },
        "id": "O-FC6xhcKlwR",
        "outputId": "d2f2edba-8c4d-4eba-c26e-af5d0bfefb23"
      },
      "outputs": [
        {
          "output_type": "stream",
          "name": "stdout",
          "text": [
            "Drive already mounted at /content/drive; to attempt to forcibly remount, call drive.mount(\"/content/drive\", force_remount=True).\n"
          ]
        }
      ],
      "source": [
        "drive.mount('/content/drive')"
      ]
    },
    {
      "cell_type": "code",
      "execution_count": null,
      "metadata": {
        "id": "qP4KcpZQK0mS"
      },
      "outputs": [],
      "source": [
        "dataset_path = '/content/drive/MyDrive/output_images_preprocessed'\n",
        "train_path = '/content/drive/MyDrive/output_images_preprocessed/train'\n",
        "test_path = '/content/drive/MyDrive/output_images_preprocessed/test'\n",
        "label_names = ['AD', 'CN', 'LMCI', 'MCI']"
      ]
    },
    {
      "cell_type": "code",
      "execution_count": null,
      "metadata": {
        "id": "7UUd3RxXK6WW"
      },
      "outputs": [],
      "source": [
        "class VGG16Model:\n",
        "    def __init__(self, train_path, test_path, label_names, train_data=None, test_data=None):\n",
        "        # Initialize the object's data members\n",
        "        self.train_path = train_path\n",
        "        self.test_path = test_path\n",
        "        self.label_names = label_names\n",
        "        self.train_data = train_data\n",
        "        self.test_data = test_data\n",
        "        self.model = None\n",
        "        \n",
        "    def build_model(self):\n",
        "        # Define the VGG16 model architecture\n",
        "        self.model = tf.keras.applications.VGG16(\n",
        "            include_top=True,    # whether to include the fully connected layer on top of the network\n",
        "            weights=None,        # use random initialization for the weights\n",
        "            input_shape=(224, 224, 3),   # specify the shape of the input image tensor\n",
        "            classes=len(self.label_names)  # specify the number of output classes\n",
        "        )\n",
        "        \n",
        "    def prepare_data(self):\n",
        "        # Define the data generators for training and testing\n",
        "        train_datagen = ImageDataGenerator(rescale=1.0 / 255)    # rescale pixel values to [0, 1] for training data\n",
        "        test_datagen = ImageDataGenerator(rescale=1.0 / 255)     # rescale pixel values to [0, 1] for testing data\n",
        "        \n",
        "        # Set up the training data generator\n",
        "        train_generator = train_datagen.flow_from_directory(\n",
        "            directory=self.train_path,           # directory containing the training data\n",
        "            classes=self.label_names,            # list of label names for the dataset\n",
        "            batch_size=32,                       # batch size for training\n",
        "            shuffle=True,                        # shuffle the training data after each epoch\n",
        "            seed=42,                             # set the random seed for shuffling the training data\n",
        "            target_size=(224, 224),              # resize input images to 224x224 pixels\n",
        "        )\n",
        "        \n",
        "        # Set up the testing data generator\n",
        "        test_generator = test_datagen.flow_from_directory(\n",
        "            directory=self.test_path,            # directory containing the testing data\n",
        "            classes=self.label_names,            # list of label names for the dataset\n",
        "            batch_size=32,                       # batch size for testing\n",
        "            shuffle=True,                        # shuffle the testing data after each epoch\n",
        "            seed=42,                             # set the random seed for shuffling the testing data\n",
        "            target_size=(224, 224),              # resize input images to 224x224 pixels\n",
        "        )\n",
        "        \n",
        "        # Assign the data generators to the training and testing sets\n",
        "        self.train_data = train_generator\n",
        "        self.test_data = test_generator\n",
        "        \n",
        "    def train_model(self, epochs=10, optimizer='adam'):\n",
        "        # Compile the model with an optimizer, loss function, and evaluation metric\n",
        "        self.model.compile(optimizer=optimizer, loss='categorical_crossentropy', metrics=['accuracy'])\n",
        "        \n",
        "        # Train the model using the training data generator\n",
        "\n",
        "\n",
        "\n",
        "\n",
        "\n",
        "        \n",
        "        self.model.fit(self.train_data, epochs=epochs)\n",
        "        \n",
        "    def evaluate_model(self):\n",
        "        # Evaluate the model on the testing data generator\n",
        "        loss, acc = self.model.evaluate(self.test_data)\n",
        "        print(f\"Test accuracy: {acc:.2f}\")\n",
        "        \n",
        "    def predict(self, image_path):\n",
        "        # Load the image from the specified file path and resize it to 224x224 pixels\n",
        "        img = tf.keras.preprocessing.image.load_img(image_path, target_size=(224, 224))\n",
        "        \n",
        "        # Convert the image to a numpy array and add a batch dimension\n",
        "        img_array = tf.keras.preprocessing.image.img_to_array(img)\n",
        "    def display_summary(self):\n",
        "      if self.model is None:\n",
        "          print(\"Model has not been built yet. Please call build_model() first.\")\n",
        "      else:\n",
        "          vgg16_model = tf.keras.applications.VGG16(\n",
        "              include_top=True,\n",
        "              weights=None,\n",
        "              input_shape=(224, 224, 3),\n",
        "              classes=len(self.label_names)\n",
        "          )\n",
        "          vgg16_model.summary()\n"
      ]
    },
    {
      "cell_type": "code",
      "execution_count": null,
      "metadata": {
        "colab": {
          "base_uri": "https://localhost:8080/"
        },
        "id": "5XPFjmMaLGNv",
        "outputId": "dec6c84f-6c58-4b5a-91a6-eff75a859c9f"
      },
      "outputs": [
        {
          "output_type": "stream",
          "name": "stdout",
          "text": [
            "Found 3170 images belonging to 4 classes.\n",
            "Found 800 images belonging to 4 classes.\n"
          ]
        }
      ],
      "source": [
        "# Create an instance of the ResNet50Model class\n",
        "model = VGG16Model(train_path=train_path, test_path=test_path, label_names=label_names)\n",
        "\n",
        "# Build the model architecture\n",
        "model.build_model()\n",
        "\n",
        "# Prepare the data generators\n",
        "model.prepare_data()"
      ]
    },
    {
      "cell_type": "code",
      "execution_count": null,
      "metadata": {
        "colab": {
          "base_uri": "https://localhost:8080/"
        },
        "id": "TqNh36okLLTp",
        "outputId": "ab6f6521-48bc-43d0-9735-4f2219186136"
      },
      "outputs": [
        {
          "output_type": "stream",
          "name": "stdout",
          "text": [
            "Model: \"vgg16\"\n",
            "_________________________________________________________________\n",
            " Layer (type)                Output Shape              Param #   \n",
            "=================================================================\n",
            " input_2 (InputLayer)        [(None, 224, 224, 3)]     0         \n",
            "                                                                 \n",
            " block1_conv1 (Conv2D)       (None, 224, 224, 64)      1792      \n",
            "                                                                 \n",
            " block1_conv2 (Conv2D)       (None, 224, 224, 64)      36928     \n",
            "                                                                 \n",
            " block1_pool (MaxPooling2D)  (None, 112, 112, 64)      0         \n",
            "                                                                 \n",
            " block2_conv1 (Conv2D)       (None, 112, 112, 128)     73856     \n",
            "                                                                 \n",
            " block2_conv2 (Conv2D)       (None, 112, 112, 128)     147584    \n",
            "                                                                 \n",
            " block2_pool (MaxPooling2D)  (None, 56, 56, 128)       0         \n",
            "                                                                 \n",
            " block3_conv1 (Conv2D)       (None, 56, 56, 256)       295168    \n",
            "                                                                 \n",
            " block3_conv2 (Conv2D)       (None, 56, 56, 256)       590080    \n",
            "                                                                 \n",
            " block3_conv3 (Conv2D)       (None, 56, 56, 256)       590080    \n",
            "                                                                 \n",
            " block3_pool (MaxPooling2D)  (None, 28, 28, 256)       0         \n",
            "                                                                 \n",
            " block4_conv1 (Conv2D)       (None, 28, 28, 512)       1180160   \n",
            "                                                                 \n",
            " block4_conv2 (Conv2D)       (None, 28, 28, 512)       2359808   \n",
            "                                                                 \n",
            " block4_conv3 (Conv2D)       (None, 28, 28, 512)       2359808   \n",
            "                                                                 \n",
            " block4_pool (MaxPooling2D)  (None, 14, 14, 512)       0         \n",
            "                                                                 \n",
            " block5_conv1 (Conv2D)       (None, 14, 14, 512)       2359808   \n",
            "                                                                 \n",
            " block5_conv2 (Conv2D)       (None, 14, 14, 512)       2359808   \n",
            "                                                                 \n",
            " block5_conv3 (Conv2D)       (None, 14, 14, 512)       2359808   \n",
            "                                                                 \n",
            " block5_pool (MaxPooling2D)  (None, 7, 7, 512)         0         \n",
            "                                                                 \n",
            " flatten (Flatten)           (None, 25088)             0         \n",
            "                                                                 \n",
            " fc1 (Dense)                 (None, 4096)              102764544 \n",
            "                                                                 \n",
            " fc2 (Dense)                 (None, 4096)              16781312  \n",
            "                                                                 \n",
            " predictions (Dense)         (None, 4)                 16388     \n",
            "                                                                 \n",
            "=================================================================\n",
            "Total params: 134,276,932\n",
            "Trainable params: 134,276,932\n",
            "Non-trainable params: 0\n",
            "_________________________________________________________________\n"
          ]
        }
      ],
      "source": [
        "model.display_summary()"
      ]
    },
    {
      "cell_type": "code",
      "execution_count": null,
      "metadata": {
        "colab": {
          "base_uri": "https://localhost:8080/"
        },
        "id": "yG188inULNeG",
        "outputId": "48fef67d-83c2-420f-edfd-9505749cbe25"
      },
      "outputs": [
        {
          "output_type": "stream",
          "name": "stdout",
          "text": [
            "Epoch 1/15\n",
            "100/100 [==============================] - 1580s 16s/step - loss: 1.3949 - accuracy: 0.2489\n",
            "Epoch 2/15\n",
            "100/100 [==============================] - 40s 401ms/step - loss: 1.3865 - accuracy: 0.2467\n",
            "Epoch 3/15\n",
            "100/100 [==============================] - 39s 393ms/step - loss: 1.3864 - accuracy: 0.2353\n",
            "Epoch 4/15\n",
            "100/100 [==============================] - 40s 397ms/step - loss: 1.3863 - accuracy: 0.2397\n",
            "Epoch 5/15\n",
            "100/100 [==============================] - 40s 395ms/step - loss: 1.3864 - accuracy: 0.2416\n",
            "Epoch 6/15\n",
            "100/100 [==============================] - 40s 395ms/step - loss: 1.3863 - accuracy: 0.2401\n",
            "Epoch 7/15\n",
            "100/100 [==============================] - 40s 395ms/step - loss: 1.3864 - accuracy: 0.2476\n",
            "Epoch 8/15\n",
            "100/100 [==============================] - 40s 395ms/step - loss: 1.3863 - accuracy: 0.2483\n",
            "Epoch 9/15\n",
            "100/100 [==============================] - 40s 395ms/step - loss: 1.3863 - accuracy: 0.2476\n",
            "Epoch 10/15\n",
            "100/100 [==============================] - 40s 396ms/step - loss: 1.3863 - accuracy: 0.2407\n",
            "Epoch 11/15\n",
            "100/100 [==============================] - 40s 395ms/step - loss: 1.3864 - accuracy: 0.2448\n",
            "Epoch 12/15\n",
            "100/100 [==============================] - 40s 395ms/step - loss: 1.3864 - accuracy: 0.2397\n",
            "Epoch 13/15\n",
            "100/100 [==============================] - 40s 395ms/step - loss: 1.3863 - accuracy: 0.2558\n",
            "Epoch 14/15\n",
            "100/100 [==============================] - 40s 395ms/step - loss: 1.3864 - accuracy: 0.2524\n",
            "Epoch 15/15\n",
            "100/100 [==============================] - 40s 395ms/step - loss: 1.3864 - accuracy: 0.2524\n"
          ]
        },
        {
          "output_type": "execute_result",
          "data": {
            "text/plain": [
              "<keras.callbacks.History at 0x7f666435efd0>"
            ]
          },
          "metadata": {},
          "execution_count": 7
        }
      ],
      "source": [
        "# Train the model\n",
        "model.model.compile(optimizer='adam', loss='categorical_crossentropy', metrics=['accuracy'])\n",
        "model.model.fit(model.train_data, epochs=15)"
      ]
    },
    {
      "cell_type": "code",
      "execution_count": null,
      "metadata": {
        "colab": {
          "base_uri": "https://localhost:8080/"
        },
        "id": "XSE8LYJK1H_s",
        "outputId": "3a5ea32b-a673-430a-8d4d-002bbcc27573"
      },
      "outputs": [
        {
          "output_type": "stream",
          "name": "stdout",
          "text": [
            "25/25 [==============================] - 371s 15s/step - loss: 1.3863 - accuracy: 0.2500\n",
            "Test accuracy: 0.25\n"
          ]
        }
      ],
      "source": [
        "model.evaluate_model()"
      ]
    },
    {
      "cell_type": "code",
      "execution_count": null,
      "metadata": {
        "colab": {
          "base_uri": "https://localhost:8080/",
          "height": 318
        },
        "id": "CTtAu2Lp49DX",
        "outputId": "1646e5b8-5c15-45be-b715-cac130ff13e3"
      },
      "outputs": [
        {
          "name": "stdout",
          "output_type": "stream",
          "text": [
            "25/25 [==============================] - 3s 116ms/step\n"
          ]
        },
        {
          "data": {
            "text/plain": [
              "<sklearn.metrics._plot.confusion_matrix.ConfusionMatrixDisplay at 0x7f596b1a83a0>"
            ]
          },
          "execution_count": 13,
          "metadata": {},
          "output_type": "execute_result"
        },
        {
          "data": {
            "image/png": "[encoded data removed]",
            "text/plain": [
              "<Figure size 432x288 with 2 Axes>"
            ]
          },
          "metadata": {},
          "output_type": "display_data"
        }
      ],
      "source": [
        "from sklearn.metrics import ConfusionMatrixDisplay\n",
        "from sklearn.metrics import confusion_matrix\n",
        "import matplotlib.pyplot as plt\n",
        "\n",
        "# Get predicted labels\n",
        "y_pred_probs = model.model.predict(model.test_data)\n",
        "y_pred = np.argmax(y_pred_probs, axis=1)\n",
        "labels = [\"AD\", \"CN\", \"LMCI\",\"MCI\"]\n",
        "y_test = model.test_data.labels\n",
        "#Create confusion matrix and normalizes it over predicted (columns)\n",
        "result = confusion_matrix(y_test, y_pred)\n",
        "disp = ConfusionMatrixDisplay(confusion_matrix= result, display_labels= labels)\n",
        "disp.plot()"
      ]
    }
  ],
  "metadata": {
    "accelerator": "GPU",
    "colab": {
      "machine_shape": "hm",
      "provenance": [],
      "include_colab_link": true
    },
    "gpuClass": "standard",
    "kernelspec": {
      "display_name": "Python 3",
      "name": "python3"
    },
    "language_info": {
      "name": "python"
    }
  },
  "nbformat": 4,
  "nbformat_minor": 0
}