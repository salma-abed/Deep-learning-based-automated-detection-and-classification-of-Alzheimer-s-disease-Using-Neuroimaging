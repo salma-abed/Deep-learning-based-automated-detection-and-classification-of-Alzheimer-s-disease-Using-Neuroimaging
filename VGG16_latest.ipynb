{
  "cells": [
    {
      "cell_type": "markdown",
      "metadata": {
        "id": "view-in-github",
        "colab_type": "text"
      },
      "source": [
        "<a href=\"https://colab.research.google.com/github/salma-abed/Deep-learning-based-automated-detection-and-classification-of-Alzheimer-s-disease-Using-Neuroimaging/blob/main/VGG16_latest.ipynb\" target=\"_parent\"><img src=\"https://colab.research.google.com/assets/colab-badge.svg\" alt=\"Open In Colab\"/></a>"
      ]
    },
    {
      "cell_type": "code",
      "execution_count": null,
      "metadata": {
        "id": "sYJAxh5vKe9Y"
      },
      "outputs": [],
      "source": [
        "import nibabel as nib\n",
        "import os\n",
        "import matplotlib.pyplot as plt\n",
        "import numpy as np\n",
        "from PIL import Image\n",
        "from shutil import copyfile\n",
        "from sklearn.model_selection import train_test_split\n",
        "from tensorflow.keras.applications.resnet50 import ResNet50\n",
        "from tensorflow.keras.layers import Dense, GlobalAveragePooling2D\n",
        "from tensorflow.keras.models import Model\n",
        "from tensorflow.keras.optimizers import Adam\n",
        "from tensorflow.keras.preprocessing.image import ImageDataGenerator\n",
        "import random\n",
        "from tensorflow import keras\n",
        "import pandas as pd\n",
        "from google.colab import drive\n",
        "import shutil\n",
        "import tensorflow as tf"
      ]
    },
    {
      "cell_type": "code",
      "execution_count": null,
      "metadata": {
        "colab": {
          "base_uri": "https://localhost:8080/"
        },
        "id": "O-FC6xhcKlwR",
        "outputId": "c7f8ccdb-16fc-4c8d-808d-e1a1866442fd"
      },
      "outputs": [
        {
          "name": "stdout",
          "output_type": "stream",
          "text": [
            "Mounted at /content/drive\n"
          ]
        }
      ],
      "source": [
        "drive.mount('/content/drive')"
      ]
    },
    {
      "cell_type": "code",
      "execution_count": null,
      "metadata": {
        "id": "qP4KcpZQK0mS"
      },
      "outputs": [],
      "source": [
        "dataset_path = '/content/drive/MyDrive/output_images'\n",
        "train_path = '/content/drive/MyDrive/output_images_lolo/train'\n",
        "test_path = '/content/drive/MyDrive/output_images_lolo/test'\n",
        "label_names = ['AD', 'CN', 'LMCI', 'MCI']"
      ]
    },
    {
      "cell_type": "code",
      "execution_count": null,
      "metadata": {
        "id": "7UUd3RxXK6WW"
      },
      "outputs": [],
      "source": [
        "class VGG16Model:\n",
        "    def __init__(self, train_path, test_path, label_names, train_data=None, test_data=None):\n",
        "        # Initialize the object's data members\n",
        "        self.train_path = train_path\n",
        "        self.test_path = test_path\n",
        "        self.label_names = label_names\n",
        "        self.train_data = train_data\n",
        "        self.test_data = test_data\n",
        "        self.model = None\n",
        "        \n",
        "    def build_model(self):\n",
        "        # Define the VGG16 model architecture\n",
        "        self.model = tf.keras.applications.VGG16(\n",
        "            include_top=True,    # whether to include the fully connected layer on top of the network\n",
        "            weights=None,        # use random initialization for the weights\n",
        "            input_shape=(224, 224, 3),   # specify the shape of the input image tensor\n",
        "            classes=len(self.label_names)  # specify the number of output classes\n",
        "        )\n",
        "        \n",
        "    def prepare_data(self):\n",
        "        # Define the data generators for training and testing\n",
        "        train_datagen = ImageDataGenerator(rescale=1.0 / 255)    # rescale pixel values to [0, 1] for training data\n",
        "        test_datagen = ImageDataGenerator(rescale=1.0 / 255)     # rescale pixel values to [0, 1] for testing data\n",
        "        \n",
        "        # Set up the training data generator\n",
        "        train_generator = train_datagen.flow_from_directory(\n",
        "            directory=self.train_path,           # directory containing the training data\n",
        "            classes=self.label_names,            # list of label names for the dataset\n",
        "            batch_size=32,                       # batch size for training\n",
        "            shuffle=True,                        # shuffle the training data after each epoch\n",
        "            seed=42,                             # set the random seed for shuffling the training data\n",
        "            target_size=(224, 224),              # resize input images to 224x224 pixels\n",
        "        )\n",
        "        \n",
        "        # Set up the testing data generator\n",
        "        test_generator = test_datagen.flow_from_directory(\n",
        "            directory=self.test_path,            # directory containing the testing data\n",
        "            classes=self.label_names,            # list of label names for the dataset\n",
        "            batch_size=32,                       # batch size for testing\n",
        "            shuffle=True,                        # shuffle the testing data after each epoch\n",
        "            seed=42,                             # set the random seed for shuffling the testing data\n",
        "            target_size=(224, 224),              # resize input images to 224x224 pixels\n",
        "        )\n",
        "        \n",
        "        # Assign the data generators to the training and testing sets\n",
        "        self.train_data = train_generator\n",
        "        self.test_data = test_generator\n",
        "        \n",
        "    def train_model(self, epochs=10, optimizer='adam'):\n",
        "        # Compile the model with an optimizer, loss function, and evaluation metric\n",
        "        self.model.compile(optimizer=optimizer, loss='categorical_crossentropy', metrics=['accuracy'])\n",
        "        \n",
        "        # Train the model using the training data generator\n",
        "        self.model.fit(self.train_data, epochs=epochs)\n",
        "        \n",
        "    def evaluate_model(self):\n",
        "        # Evaluate the model on the testing data generator\n",
        "        loss, acc = self.model.evaluate(self.test_data)\n",
        "        print(f\"Test accuracy: {acc:.2f}\")\n",
        "        \n",
        "    def predict(self, image_path):\n",
        "        # Load the image from the specified file path and resize it to 224x224 pixels\n",
        "        img = tf.keras.preprocessing.image.load_img(image_path, target_size=(224, 224))\n",
        "        \n",
        "        # Convert the image to a numpy array and add a batch dimension\n",
        "        img_array = tf.keras.preprocessing.image.img_to_array(img)\n",
        "    def display_summary(self):\n",
        "      if self.model is None:\n",
        "          print(\"Model has not been built yet. Please call build_model() first.\")\n",
        "      else:\n",
        "          vgg16_model = tf.keras.applications.VGG16(\n",
        "              include_top=True,\n",
        "              weights=None,\n",
        "              input_shape=(224, 224, 3),\n",
        "              classes=len(self.label_names)\n",
        "          )\n",
        "          vgg16_model.summary()\n"
      ]
    },
    {
      "cell_type": "code",
      "execution_count": null,
      "metadata": {
        "colab": {
          "base_uri": "https://localhost:8080/"
        },
        "id": "5XPFjmMaLGNv",
        "outputId": "972415dd-572e-4604-ec15-639ec5825b68"
      },
      "outputs": [
        {
          "name": "stdout",
          "output_type": "stream",
          "text": [
            "Found 280 images belonging to 4 classes.\n",
            "Found 80 images belonging to 4 classes.\n"
          ]
        }
      ],
      "source": [
        "# Create an instance of the ResNet50Model class\n",
        "model = VGG16Model(train_path=train_path, test_path=test_path, label_names=label_names)\n",
        "\n",
        "# Build the model architecture\n",
        "model.build_model()\n",
        "\n",
        "# Prepare the data generators\n",
        "model.prepare_data()"
      ]
    },
    {
      "cell_type": "code",
      "execution_count": null,
      "metadata": {
        "colab": {
          "base_uri": "https://localhost:8080/"
        },
        "id": "TqNh36okLLTp",
        "outputId": "641d354e-82d6-4728-d85d-8a0ff9e4cfe8"
      },
      "outputs": [
        {
          "name": "stdout",
          "output_type": "stream",
          "text": [
            "Model: \"vgg16\"\n",
            "_________________________________________________________________\n",
            " Layer (type)                Output Shape              Param #   \n",
            "=================================================================\n",
            " input_2 (InputLayer)        [(None, 224, 224, 3)]     0         \n",
            "                                                                 \n",
            " block1_conv1 (Conv2D)       (None, 224, 224, 64)      1792      \n",
            "                                                                 \n",
            " block1_conv2 (Conv2D)       (None, 224, 224, 64)      36928     \n",
            "                                                                 \n",
            " block1_pool (MaxPooling2D)  (None, 112, 112, 64)      0         \n",
            "                                                                 \n",
            " block2_conv1 (Conv2D)       (None, 112, 112, 128)     73856     \n",
            "                                                                 \n",
            " block2_conv2 (Conv2D)       (None, 112, 112, 128)     147584    \n",
            "                                                                 \n",
            " block2_pool (MaxPooling2D)  (None, 56, 56, 128)       0         \n",
            "                                                                 \n",
            " block3_conv1 (Conv2D)       (None, 56, 56, 256)       295168    \n",
            "                                                                 \n",
            " block3_conv2 (Conv2D)       (None, 56, 56, 256)       590080    \n",
            "                                                                 \n",
            " block3_conv3 (Conv2D)       (None, 56, 56, 256)       590080    \n",
            "                                                                 \n",
            " block3_pool (MaxPooling2D)  (None, 28, 28, 256)       0         \n",
            "                                                                 \n",
            " block4_conv1 (Conv2D)       (None, 28, 28, 512)       1180160   \n",
            "                                                                 \n",
            " block4_conv2 (Conv2D)       (None, 28, 28, 512)       2359808   \n",
            "                                                                 \n",
            " block4_conv3 (Conv2D)       (None, 28, 28, 512)       2359808   \n",
            "                                                                 \n",
            " block4_pool (MaxPooling2D)  (None, 14, 14, 512)       0         \n",
            "                                                                 \n",
            " block5_conv1 (Conv2D)       (None, 14, 14, 512)       2359808   \n",
            "                                                                 \n",
            " block5_conv2 (Conv2D)       (None, 14, 14, 512)       2359808   \n",
            "                                                                 \n",
            " block5_conv3 (Conv2D)       (None, 14, 14, 512)       2359808   \n",
            "                                                                 \n",
            " block5_pool (MaxPooling2D)  (None, 7, 7, 512)         0         \n",
            "                                                                 \n",
            " flatten (Flatten)           (None, 25088)             0         \n",
            "                                                                 \n",
            " fc1 (Dense)                 (None, 4096)              102764544 \n",
            "                                                                 \n",
            " fc2 (Dense)                 (None, 4096)              16781312  \n",
            "                                                                 \n",
            " predictions (Dense)         (None, 4)                 16388     \n",
            "                                                                 \n",
            "=================================================================\n",
            "Total params: 134,276,932\n",
            "Trainable params: 134,276,932\n",
            "Non-trainable params: 0\n",
            "_________________________________________________________________\n"
          ]
        }
      ],
      "source": [
        "model.display_summary()"
      ]
    },
    {
      "cell_type": "code",
      "execution_count": null,
      "metadata": {
        "colab": {
          "background_save": true,
          "base_uri": "https://localhost:8080/"
        },
        "id": "yG188inULNeG",
        "outputId": "bf1ed812-edc6-44dd-a442-49aa54e1ce3e"
      },
      "outputs": [
        {
          "name": "stdout",
          "output_type": "stream",
          "text": [
            "Epoch 1/10\n",
            "100/100 [==============================] - 7242s 72s/step - loss: 1.4018 - accuracy: 0.2575\n",
            "Epoch 2/10\n",
            " 49/100 [=============>................] - ETA: 1:00:28 - loss: 1.3867 - accuracy: 0.2468"
          ]
        }
      ],
      "source": [
        "# Train the model\n",
        "model.model.compile(optimizer='adam', loss='categorical_crossentropy', metrics=['accuracy'])\n",
        "model.model.fit(model.train_data, epochs=10)"
      ]
    },
    {
      "cell_type": "code",
      "execution_count": null,
      "metadata": {
        "colab": {
          "base_uri": "https://localhost:8080/"
        },
        "id": "XSE8LYJK1H_s",
        "outputId": "0b812b9a-b41a-474d-b52e-b2af9b214280"
      },
      "outputs": [
        {
          "name": "stdout",
          "output_type": "stream",
          "text": [
            "3/3 [==============================] - 10s 4s/step - loss: 1.4050 - accuracy: 0.2500\n",
            "Test accuracy: 0.25\n"
          ]
        }
      ],
      "source": [
        "model.evaluate_model()"
      ]
    },
    {
      "cell_type": "code",
      "execution_count": null,
      "metadata": {
        "colab": {
          "base_uri": "https://localhost:8080/"
        },
        "id": "jAzjNZ-SULIs",
        "outputId": "ce1d770e-b297-4990-b7cd-935db3ad70e6"
      },
      "outputs": [
        {
          "name": "stdout",
          "output_type": "stream",
          "text": [
            "3/3 [==============================] - 1s 176ms/step\n"
          ]
        }
      ],
      "source": [
        "# Get predicted labels\n",
        "y_pred_probs = model.model.predict(model.test_data)\n",
        "y_pred = np.argmax(y_pred_probs, axis=1)\n"
      ]
    },
    {
      "cell_type": "code",
      "execution_count": null,
      "metadata": {
        "id": "z5TdBUTTUkC4"
      },
      "outputs": [],
      "source": [
        "from sklearn.metrics import ConfusionMatrixDisplay\n",
        "from sklearn.metrics import confusion_matrix\n",
        "import matplotlib.pyplot as plt"
      ]
    },
    {
      "cell_type": "code",
      "execution_count": null,
      "metadata": {
        "colab": {
          "base_uri": "https://localhost:8080/",
          "height": 166
        },
        "id": "IJ7NzNMWJvks",
        "outputId": "2ae4eb79-35fc-49e6-f80e-8a922e1f76d4"
      },
      "outputs": [
        {
          "ename": "NameError",
          "evalue": "ignored",
          "output_type": "error",
          "traceback": [
            "\u001b[0;31m---------------------------------------------------------------------------\u001b[0m",
            "\u001b[0;31mNameError\u001b[0m                                 Traceback (most recent call last)",
            "\u001b[0;32m<ipython-input-11-9feb59d13e52>\u001b[0m in \u001b[0;36m<module>\u001b[0;34m\u001b[0m\n\u001b[0;32m----> 1\u001b[0;31m \u001b[0my_pred\u001b[0m \u001b[0;34m=\u001b[0m \u001b[0mnp\u001b[0m\u001b[0;34m.\u001b[0m\u001b[0margmax\u001b[0m\u001b[0;34m(\u001b[0m\u001b[0mmodel\u001b[0m\u001b[0;34m.\u001b[0m\u001b[0mpredict\u001b[0m\u001b[0;34m(\u001b[0m\u001b[0mx_test\u001b[0m\u001b[0;34m)\u001b[0m\u001b[0;34m,\u001b[0m \u001b[0maxis\u001b[0m\u001b[0;34m=\u001b[0m\u001b[0;34m-\u001b[0m\u001b[0;36m1\u001b[0m\u001b[0;34m)\u001b[0m\u001b[0;34m\u001b[0m\u001b[0;34m\u001b[0m\u001b[0m\n\u001b[0m",
            "\u001b[0;31mNameError\u001b[0m: name 'x_test' is not defined"
          ]
        }
      ],
      "source": [
        "y_pred = np.argmax(model.predict(x_test), axis=-1)"
      ]
    },
    {
      "cell_type": "code",
      "execution_count": null,
      "metadata": {
        "id": "L_KZiogLVHDO"
      },
      "outputs": [],
      "source": [
        "labels = [\"AD\", \"CN\", \"LMCI\",\"MCI\"]"
      ]
    },
    {
      "cell_type": "code",
      "execution_count": null,
      "metadata": {
        "colab": {
          "base_uri": "https://localhost:8080/",
          "height": 235
        },
        "id": "-oyoxx4pUXK_",
        "outputId": "a37173ff-005e-4e00-b4da-b22b8febcdfe"
      },
      "outputs": [
        {
          "ename": "NameError",
          "evalue": "ignored",
          "output_type": "error",
          "traceback": [
            "\u001b[0;31m---------------------------------------------------------------------------\u001b[0m",
            "\u001b[0;31mNameError\u001b[0m                                 Traceback (most recent call last)",
            "\u001b[0;32m<ipython-input-13-94445a6634f1>\u001b[0m in \u001b[0;36m<module>\u001b[0;34m\u001b[0m\n\u001b[1;32m      1\u001b[0m \u001b[0;31m# assuming y_true and y_pred are the true and predicted labels for the test set\u001b[0m\u001b[0;34m\u001b[0m\u001b[0;34m\u001b[0m\u001b[0;34m\u001b[0m\u001b[0m\n\u001b[0;32m----> 2\u001b[0;31m \u001b[0mcm\u001b[0m \u001b[0;34m=\u001b[0m \u001b[0mconfusion_matrix\u001b[0m\u001b[0;34m(\u001b[0m\u001b[0my_true\u001b[0m\u001b[0;34m,\u001b[0m \u001b[0my_pred\u001b[0m\u001b[0;34m)\u001b[0m\u001b[0;34m\u001b[0m\u001b[0;34m\u001b[0m\u001b[0m\n\u001b[0m\u001b[1;32m      3\u001b[0m \u001b[0;34m\u001b[0m\u001b[0m\n\u001b[1;32m      4\u001b[0m \u001b[0mnp\u001b[0m\u001b[0;34m.\u001b[0m\u001b[0mset_printoptions\u001b[0m\u001b[0;34m(\u001b[0m\u001b[0mprecision\u001b[0m\u001b[0;34m=\u001b[0m\u001b[0;36m2\u001b[0m\u001b[0;34m)\u001b[0m\u001b[0;34m\u001b[0m\u001b[0;34m\u001b[0m\u001b[0m\n\u001b[1;32m      5\u001b[0m \u001b[0mdisp\u001b[0m \u001b[0;34m=\u001b[0m \u001b[0mConfusionMatrixDisplay\u001b[0m\u001b[0;34m(\u001b[0m\u001b[0mconfusion_matrix\u001b[0m\u001b[0;34m=\u001b[0m\u001b[0mcm\u001b[0m\u001b[0;34m,\u001b[0m \u001b[0mdisplay_labels\u001b[0m\u001b[0;34m=\u001b[0m\u001b[0mlabels\u001b[0m\u001b[0;34m)\u001b[0m\u001b[0;34m\u001b[0m\u001b[0;34m\u001b[0m\u001b[0m\n",
            "\u001b[0;31mNameError\u001b[0m: name 'y_true' is not defined"
          ]
        }
      ],
      "source": [
        "# assuming y_true and y_pred are the true and predicted labels for the test set\n",
        "cm = confusion_matrix(y_true, y_pred)\n",
        "\n",
        "np.set_printoptions(precision=2)\n",
        "disp = ConfusionMatrixDisplay(confusion_matrix=cm, display_labels=labels)\n",
        "print('Confusion matrix, without normalization')\n",
        "print(cm)"
      ]
    }
  ],
  "metadata": {
    "accelerator": "GPU",
    "colab": {
      "machine_shape": "hm",
      "provenance": [],
      "include_colab_link": true
    },
    "gpuClass": "standard",
    "kernelspec": {
      "display_name": "Python 3",
      "name": "python3"
    },
    "language_info": {
      "name": "python"
    }
  },
  "nbformat": 4,
  "nbformat_minor": 0
}