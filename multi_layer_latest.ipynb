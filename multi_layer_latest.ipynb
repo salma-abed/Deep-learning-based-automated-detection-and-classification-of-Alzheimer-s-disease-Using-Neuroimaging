{
  "nbformat": 4,
  "nbformat_minor": 0,
  "metadata": {
    "colab": {
      "provenance": [],
      "include_colab_link": true
    },
    "kernelspec": {
      "name": "python3",
      "display_name": "Python 3"
    },
    "language_info": {
      "name": "python"
    }
  },
  "cells": [
    {
      "cell_type": "markdown",
      "metadata": {
        "id": "view-in-github",
        "colab_type": "text"
      },
      "source": [
        "<a href=\"https://colab.research.google.com/github/salma-abed/Deep-learning-based-automated-detection-and-classification-of-Alzheimer-s-disease-Using-Neuroimaging/blob/main/multi_layer_latest.ipynb\" target=\"_parent\"><img src=\"https://colab.research.google.com/assets/colab-badge.svg\" alt=\"Open In Colab\"/></a>"
      ]
    },
    {
      "cell_type": "code",
      "execution_count": null,
      "metadata": {
        "id": "QdkDFbp-2G1g"
      },
      "outputs": [],
      "source": [
        "import nibabel as nib\n",
        "import os\n",
        "import matplotlib.pyplot as plt\n",
        "import numpy as np\n",
        "from PIL import Image\n",
        "from shutil import copyfile\n",
        "from sklearn.model_selection import train_test_split\n",
        "from tensorflow.keras.applications.resnet50 import ResNet50\n",
        "from tensorflow.keras.layers import Dense, GlobalAveragePooling2D\n",
        "from tensorflow.keras.models import Model\n",
        "from tensorflow.keras.optimizers import Adam\n",
        "from tensorflow.keras.preprocessing.image import ImageDataGenerator\n",
        "import random\n",
        "from tensorflow import keras\n",
        "import pandas as pd\n",
        "from google.colab import drive\n",
        "import shutil\n",
        "import tensorflow as tf"
      ]
    },
    {
      "cell_type": "code",
      "source": [
        "drive.mount('/content/drive')"
      ],
      "metadata": {
        "colab": {
          "base_uri": "https://localhost:8080/"
        },
        "id": "EwVENkPv2huT",
        "outputId": "ebb11d5c-3bbf-47c8-b295-a86279128cdc"
      },
      "execution_count": null,
      "outputs": [
        {
          "output_type": "stream",
          "name": "stdout",
          "text": [
            "Mounted at /content/drive\n"
          ]
        }
      ]
    },
    {
      "cell_type": "code",
      "source": [
        "dataset_path = '/content/drive/MyDrive/ADNI_Dataset_jpg'\n",
        "train_path = '/content/drive/MyDrive/ADNI_Dataset_jpg/train'\n",
        "test_path = '/content/drive/MyDrive/ADNI_Dataset_jpg/test'\n",
        "label_names = ['AD', 'CN', 'LMCI', 'MCI']"
      ],
      "metadata": {
        "id": "vHQjRW_P2xNK"
      },
      "execution_count": null,
      "outputs": []
    },
    {
      "cell_type": "code",
      "source": [
        "class MultilayerPerceptronModel:\n",
        "    def __init__(self, train_path, test_path, label_names, train_data=None, test_data=None):\n",
        "        # Initialize the object's data members\n",
        "        self.train_path = train_path\n",
        "        self.test_path = test_path\n",
        "        self.label_names = label_names\n",
        "        self.train_data = train_data\n",
        "        self.test_data = test_data\n",
        "        self.model = None\n",
        "        \n",
        "    def build_model(self):\n",
        "        # Define the Multilayer Perceptron model architecture\n",
        "        self.model = tf.keras.models.Sequential([\n",
        "            tf.keras.layers.Flatten(input_shape=(224, 224, 3)),\n",
        "            tf.keras.layers.Dense(128, activation='relu'),\n",
        "            tf.keras.layers.Dropout(0.2),\n",
        "            tf.keras.layers.Dense(len(self.label_names), activation='softmax')\n",
        "        ])\n",
        "        \n",
        "    def prepare_data(self):\n",
        "        # Define the data generators for training and testing\n",
        "        train_datagen = ImageDataGenerator(rescale=1.0 / 255)    # rescale pixel values to [0, 1] for training data\n",
        "        test_datagen = ImageDataGenerator(rescale=1.0 / 255)     # rescale pixel values to [0, 1] for testing data\n",
        "        \n",
        "        # Set up the training data generator\n",
        "        train_generator = train_datagen.flow_from_directory(\n",
        "            directory=self.train_path,           # directory containing the training data\n",
        "            classes=self.label_names,            # list of label names for the dataset\n",
        "            batch_size=32,                       # batch size for training\n",
        "            shuffle=True,                        # shuffle the training data after each epoch\n",
        "            seed=42,                             # set the random seed for shuffling the training data\n",
        "            target_size=(224, 224),              # resize input images to 224x224 pixels\n",
        "        )\n",
        "        \n",
        "        # Set up the testing data generator\n",
        "        test_generator = test_datagen.flow_from_directory(\n",
        "            directory=self.test_path,            # directory containing the testing data\n",
        "            classes=self.label_names,            # list of label names for the dataset\n",
        "            batch_size=32,                       # batch size for testing\n",
        "            shuffle=True,                        # shuffle the testing data after each epoch\n",
        "            seed=42,                             # set the random seed for shuffling the testing data\n",
        "            target_size=(224, 224),              # resize input images to 224x224 pixels\n",
        "        )\n",
        "        \n",
        "        # Assign the data generators to the training and testing sets\n",
        "        self.train_data = train_generator\n",
        "        self.test_data = test_generator\n",
        "        \n",
        "    def train_model(self, epochs=10, optimizer='adam'):\n",
        "        # Compile the model with an optimizer, loss function, and evaluation metric\n",
        "        self.model.compile(optimizer=optimizer, loss='categorical_crossentropy', metrics=['accuracy'])\n",
        "        \n",
        "        # Train the model using the training data generator\n",
        "        self.model.fit(self.train_data, epochs=epochs)\n",
        "        \n",
        "    def evaluate_model(self):\n",
        "        # Evaluate the model on the testing data generator\n",
        "        loss, acc = self.model.evaluate(self.test_data)\n",
        "        print(f\"Test accuracy: {acc:.2f}\")\n",
        "        \n",
        "    def predict(self, image_path):\n",
        "        # Load the image from the specified file path and resize it to 224x224 pixels\n",
        "        img = tf.keras.preprocessing.image.load_img(image_path, target_size=(224, 224))\n",
        "        \n",
        "        # Convert the image to a numpy array and add a batch dimension\n",
        "        img_array = tf.keras.preprocessing.image.img_to_array(img)\n",
        "        \n",
        "    def display_summary(self):\n",
        "      if self.model is None:\n",
        "          print(\"Model has not been built yet. Please call build_model() first.\")\n",
        "      else:\n",
        "          self.model.summary()"
      ],
      "metadata": {
        "id": "7mF3Zc1r2ypP"
      },
      "execution_count": null,
      "outputs": []
    },
    {
      "cell_type": "code",
      "source": [
        "# Create an instance of the ResNet50Model class\n",
        "model = MultilayerPerceptronModel(train_path=train_path, test_path=test_path, label_names=label_names)\n",
        "\n",
        "# Build the model architecture\n",
        "model.build_model()\n",
        "\n",
        "# Prepare the data generators\n",
        "model.prepare_data()"
      ],
      "metadata": {
        "colab": {
          "base_uri": "https://localhost:8080/"
        },
        "id": "EFP0aGKL25rp",
        "outputId": "f8891be4-10e9-4b33-d6e4-4998c125ce3c"
      },
      "execution_count": null,
      "outputs": [
        {
          "output_type": "stream",
          "name": "stdout",
          "text": [
            "Found 3200 images belonging to 4 classes.\n",
            "Found 800 images belonging to 4 classes.\n"
          ]
        }
      ]
    },
    {
      "cell_type": "code",
      "source": [
        "model.display_summary()"
      ],
      "metadata": {
        "colab": {
          "base_uri": "https://localhost:8080/"
        },
        "id": "DnJ14W7S3GH9",
        "outputId": "438d1bae-2c90-4957-efd4-bb9691cedeac"
      },
      "execution_count": null,
      "outputs": [
        {
          "output_type": "stream",
          "name": "stdout",
          "text": [
            "Model: \"sequential\"\n",
            "_________________________________________________________________\n",
            " Layer (type)                Output Shape              Param #   \n",
            "=================================================================\n",
            " flatten (Flatten)           (None, 150528)            0         \n",
            "                                                                 \n",
            " dense (Dense)               (None, 128)               19267712  \n",
            "                                                                 \n",
            " dropout (Dropout)           (None, 128)               0         \n",
            "                                                                 \n",
            " dense_1 (Dense)             (None, 4)                 516       \n",
            "                                                                 \n",
            "=================================================================\n",
            "Total params: 19,268,228\n",
            "Trainable params: 19,268,228\n",
            "Non-trainable params: 0\n",
            "_________________________________________________________________\n"
          ]
        }
      ]
    },
    {
      "cell_type": "code",
      "source": [
        "# Train the model\n",
        "model.model.compile(optimizer='adam', loss='categorical_crossentropy', metrics=['accuracy'])\n",
        "model.model.fit(model.train_data, epochs=10)"
      ],
      "metadata": {
        "colab": {
          "base_uri": "https://localhost:8080/"
        },
        "id": "o3dginvd3J-W",
        "outputId": "e11af5ac-6288-440e-d1ff-f66dabad06b4"
      },
      "execution_count": null,
      "outputs": [
        {
          "output_type": "stream",
          "name": "stdout",
          "text": [
            "Epoch 1/10\n",
            "100/100 [==============================] - 656s 7s/step - loss: 12.2734 - accuracy: 0.3122\n",
            "Epoch 2/10\n",
            "100/100 [==============================] - 54s 530ms/step - loss: 1.3606 - accuracy: 0.2491\n",
            "Epoch 3/10\n",
            "100/100 [==============================] - 53s 531ms/step - loss: 1.3543 - accuracy: 0.2887\n",
            "Epoch 4/10\n",
            "100/100 [==============================] - 52s 520ms/step - loss: 1.3503 - accuracy: 0.2909\n",
            "Epoch 5/10\n",
            "100/100 [==============================] - 55s 547ms/step - loss: 1.3424 - accuracy: 0.2966\n",
            "Epoch 6/10\n",
            "100/100 [==============================] - 64s 640ms/step - loss: 1.3386 - accuracy: 0.3034\n",
            "Epoch 7/10\n",
            "100/100 [==============================] - 56s 560ms/step - loss: 1.3426 - accuracy: 0.2988\n",
            "Epoch 8/10\n",
            "100/100 [==============================] - 54s 538ms/step - loss: 1.3401 - accuracy: 0.3006\n",
            "Epoch 9/10\n",
            "100/100 [==============================] - 57s 568ms/step - loss: 1.3358 - accuracy: 0.3016\n",
            "Epoch 10/10\n",
            "100/100 [==============================] - 54s 536ms/step - loss: 1.3282 - accuracy: 0.3066\n"
          ]
        },
        {
          "output_type": "execute_result",
          "data": {
            "text/plain": [
              "<keras.callbacks.History at 0x7f7d1452dc40>"
            ]
          },
          "metadata": {},
          "execution_count": 7
        }
      ]
    },
    {
      "cell_type": "code",
      "source": [
        "model.evaluate_model()"
      ],
      "metadata": {
        "colab": {
          "base_uri": "https://localhost:8080/"
        },
        "id": "-XCu460b1UcJ",
        "outputId": "211d22ee-94c0-47e5-a13f-646c09940e75"
      },
      "execution_count": null,
      "outputs": [
        {
          "output_type": "stream",
          "name": "stdout",
          "text": [
            "25/25 [==============================] - 157s 7s/step - loss: 1.3510 - accuracy: 0.2875\n",
            "Test accuracy: 0.29\n"
          ]
        }
      ]
    },
    {
      "cell_type": "code",
      "source": [
        "from sklearn.metrics import ConfusionMatrixDisplay\n",
        "from sklearn.metrics import confusion_matrix\n",
        "import matplotlib.pyplot as plt\n",
        "\n",
        "# Get predicted labels\n",
        "y_pred_probs = model.model.predict(model.test_data)\n",
        "y_pred = np.argmax(y_pred_probs, axis=1)\n",
        "labels = [\"AD\", \"CN\", \"LMCI\",\"MCI\"]\n",
        "y_test = model.test_data.labels\n",
        "#Create confusion matrix and normalizes it over predicted (columns)\n",
        "result = confusion_matrix(y_test, y_pred , normalize='pred')\n",
        "disp = ConfusionMatrixDisplay(confusion_matrix= result, display_labels= labels)\n",
        "disp.plot()"
      ],
      "metadata": {
        "colab": {
          "base_uri": "https://localhost:8080/",
          "height": 318
        },
        "id": "gEaozKX3h3iE",
        "outputId": "45f2cbd7-11f9-482b-cd70-79917aa6875b"
      },
      "execution_count": null,
      "outputs": [
        {
          "output_type": "stream",
          "name": "stdout",
          "text": [
            "25/25 [==============================] - 5s 188ms/step\n"
          ]
        },
        {
          "output_type": "execute_result",
          "data": {
            "text/plain": [
              "<sklearn.metrics._plot.confusion_matrix.ConfusionMatrixDisplay at 0x7f7d0cd8d0d0>"
            ]
          },
          "metadata": {},
          "execution_count": 9
        },
        {
          "output_type": "display_data",
          "data": {
            "text/plain": [
              "<Figure size 432x288 with 2 Axes>"
            ],
            "image/png": "[encoded data removed]"
          },
          "metadata": {
            "needs_background": "light"
          }
        }
      ]
    }
  ]
}