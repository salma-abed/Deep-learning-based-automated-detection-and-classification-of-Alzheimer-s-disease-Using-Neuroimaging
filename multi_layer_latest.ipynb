{
  "nbformat": 4,
  "nbformat_minor": 0,
  "metadata": {
    "colab": {
      "provenance": [],
      "include_colab_link": true
    },
    "kernelspec": {
      "name": "python3",
      "display_name": "Python 3"
    },
    "language_info": {
      "name": "python"
    }
  },
  "cells": [
    {
      "cell_type": "markdown",
      "metadata": {
        "id": "view-in-github",
        "colab_type": "text"
      },
      "source": [
        "<a href=\"https://colab.research.google.com/github/salma-abed/Deep-learning-based-automated-detection-and-classification-of-Alzheimer-s-disease-Using-Neuroimaging/blob/main/multi_layer_latest.ipynb\" target=\"_parent\"><img src=\"https://colab.research.google.com/assets/colab-badge.svg\" alt=\"Open In Colab\"/></a>"
      ]
    },
    {
      "cell_type": "code",
      "execution_count": null,
      "metadata": {
        "id": "QdkDFbp-2G1g"
      },
      "outputs": [],
      "source": [
        "import nibabel as nib\n",
        "import os\n",
        "import matplotlib.pyplot as plt\n",
        "import numpy as np\n",
        "from PIL import Image\n",
        "from shutil import copyfile\n",
        "from sklearn.model_selection import train_test_split\n",
        "from tensorflow.keras.applications.resnet50 import ResNet50\n",
        "from tensorflow.keras.layers import Dense, GlobalAveragePooling2D\n",
        "from tensorflow.keras.models import Model\n",
        "from tensorflow.keras.optimizers import Adam\n",
        "from tensorflow.keras.preprocessing.image import ImageDataGenerator\n",
        "import random\n",
        "from tensorflow import keras\n",
        "import pandas as pd\n",
        "from google.colab import drive\n",
        "import shutil\n",
        "import tensorflow as tf"
      ]
    },
    {
      "cell_type": "code",
      "source": [
        "drive.mount('/content/drive')"
      ],
      "metadata": {
        "colab": {
          "base_uri": "https://localhost:8080/"
        },
        "id": "EwVENkPv2huT",
        "outputId": "3a24ed84-41bb-4571-8964-6913788640b1"
      },
      "execution_count": null,
      "outputs": [
        {
          "output_type": "stream",
          "name": "stdout",
          "text": [
            "Mounted at /content/drive\n"
          ]
        }
      ]
    },
    {
      "cell_type": "code",
      "source": [
        "dataset_path = '/content/drive/MyDrive/output_images'\n",
        "train_path = '/content/drive/MyDrive/output_images_lolo/train'\n",
        "test_path = '/content/drive/MyDrive/output_images_lolo/test'\n",
        "label_names = ['AD', 'CN', 'LMCI', 'MCI']"
      ],
      "metadata": {
        "id": "vHQjRW_P2xNK"
      },
      "execution_count": null,
      "outputs": []
    },
    {
      "cell_type": "code",
      "source": [
        "class MultilayerPerceptronModel:\n",
        "    def __init__(self, train_path, test_path, label_names, train_data=None, test_data=None):\n",
        "        # Initialize the object's data members\n",
        "        self.train_path = train_path\n",
        "        self.test_path = test_path\n",
        "        self.label_names = label_names\n",
        "        self.train_data = train_data\n",
        "        self.test_data = test_data\n",
        "        self.model = None\n",
        "        \n",
        "    def build_model(self):\n",
        "        # Define the Multilayer Perceptron model architecture\n",
        "        self.model = tf.keras.models.Sequential([\n",
        "            tf.keras.layers.Flatten(input_shape=(224, 224, 3)),\n",
        "            tf.keras.layers.Dense(128, activation='relu'),\n",
        "            tf.keras.layers.Dropout(0.2),\n",
        "            tf.keras.layers.Dense(len(self.label_names), activation='softmax')\n",
        "        ])\n",
        "        \n",
        "    def prepare_data(self):\n",
        "        # Define the data generators for training and testing\n",
        "        train_datagen = ImageDataGenerator(rescale=1.0 / 255)    # rescale pixel values to [0, 1] for training data\n",
        "        test_datagen = ImageDataGenerator(rescale=1.0 / 255)     # rescale pixel values to [0, 1] for testing data\n",
        "        \n",
        "        # Set up the training data generator\n",
        "        train_generator = train_datagen.flow_from_directory(\n",
        "            directory=self.train_path,           # directory containing the training data\n",
        "            classes=self.label_names,            # list of label names for the dataset\n",
        "            batch_size=32,                       # batch size for training\n",
        "            shuffle=True,                        # shuffle the training data after each epoch\n",
        "            seed=42,                             # set the random seed for shuffling the training data\n",
        "            target_size=(224, 224),              # resize input images to 224x224 pixels\n",
        "        )\n",
        "        \n",
        "        # Set up the testing data generator\n",
        "        test_generator = test_datagen.flow_from_directory(\n",
        "            directory=self.test_path,            # directory containing the testing data\n",
        "            classes=self.label_names,            # list of label names for the dataset\n",
        "            batch_size=32,                       # batch size for testing\n",
        "            shuffle=True,                        # shuffle the testing data after each epoch\n",
        "            seed=42,                             # set the random seed for shuffling the testing data\n",
        "            target_size=(224, 224),              # resize input images to 224x224 pixels\n",
        "        )\n",
        "        \n",
        "        # Assign the data generators to the training and testing sets\n",
        "        self.train_data = train_generator\n",
        "        self.test_data = test_generator\n",
        "        \n",
        "    def train_model(self, epochs=10, optimizer='adam'):\n",
        "        # Compile the model with an optimizer, loss function, and evaluation metric\n",
        "        self.model.compile(optimizer=optimizer, loss='categorical_crossentropy', metrics=['accuracy'])\n",
        "        \n",
        "        # Train the model using the training data generator\n",
        "        self.model.fit(self.train_data, epochs=epochs)\n",
        "        \n",
        "    def evaluate_model(self):\n",
        "        # Evaluate the model on the testing data generator\n",
        "        loss, acc = self.model.evaluate(self.test_data)\n",
        "        print(f\"Test accuracy: {acc:.2f}\")\n",
        "        \n",
        "    def predict(self, image_path):\n",
        "        # Load the image from the specified file path and resize it to 224x224 pixels\n",
        "        img = tf.keras.preprocessing.image.load_img(image_path, target_size=(224, 224))\n",
        "        \n",
        "        # Convert the image to a numpy array and add a batch dimension\n",
        "        img_array = tf.keras.preprocessing.image.img_to_array(img)\n",
        "        \n",
        "    def display_summary(self):\n",
        "      if self.model is None:\n",
        "          print(\"Model has not been built yet. Please call build_model() first.\")\n",
        "      else:\n",
        "          self.model.summary()"
      ],
      "metadata": {
        "id": "7mF3Zc1r2ypP"
      },
      "execution_count": null,
      "outputs": []
    },
    {
      "cell_type": "code",
      "source": [
        "# Create an instance of the ResNet50Model class\n",
        "model = MultilayerPerceptronModel(train_path=train_path, test_path=test_path, label_names=label_names)\n",
        "\n",
        "# Build the model architecture\n",
        "model.build_model()\n",
        "\n",
        "# Prepare the data generators\n",
        "model.prepare_data()"
      ],
      "metadata": {
        "colab": {
          "base_uri": "https://localhost:8080/"
        },
        "id": "EFP0aGKL25rp",
        "outputId": "659455bc-7b75-4658-f459-83e91e447cf5"
      },
      "execution_count": null,
      "outputs": [
        {
          "output_type": "stream",
          "name": "stdout",
          "text": [
            "Found 280 images belonging to 4 classes.\n",
            "Found 80 images belonging to 4 classes.\n"
          ]
        }
      ]
    },
    {
      "cell_type": "code",
      "source": [
        "model.display_summary()"
      ],
      "metadata": {
        "colab": {
          "base_uri": "https://localhost:8080/"
        },
        "id": "DnJ14W7S3GH9",
        "outputId": "bd33291f-f739-4d12-80c9-a99105bba4b6"
      },
      "execution_count": null,
      "outputs": [
        {
          "output_type": "stream",
          "name": "stdout",
          "text": [
            "Model: \"sequential\"\n",
            "_________________________________________________________________\n",
            " Layer (type)                Output Shape              Param #   \n",
            "=================================================================\n",
            " flatten (Flatten)           (None, 150528)            0         \n",
            "                                                                 \n",
            " dense (Dense)               (None, 128)               19267712  \n",
            "                                                                 \n",
            " dropout (Dropout)           (None, 128)               0         \n",
            "                                                                 \n",
            " dense_1 (Dense)             (None, 4)                 516       \n",
            "                                                                 \n",
            "=================================================================\n",
            "Total params: 19,268,228\n",
            "Trainable params: 19,268,228\n",
            "Non-trainable params: 0\n",
            "_________________________________________________________________\n"
          ]
        }
      ]
    },
    {
      "cell_type": "code",
      "source": [
        "# Train the model\n",
        "model.model.compile(optimizer='adam', loss='categorical_crossentropy', metrics=['accuracy'])\n",
        "model.model.fit(model.train_data, epochs=10)"
      ],
      "metadata": {
        "colab": {
          "base_uri": "https://localhost:8080/"
        },
        "id": "o3dginvd3J-W",
        "outputId": "2465a300-be63-495e-bca3-93cfb540b967"
      },
      "execution_count": null,
      "outputs": [
        {
          "output_type": "stream",
          "name": "stdout",
          "text": [
            "Epoch 1/10\n",
            "9/9 [==============================] - 53s 6s/step - loss: 45.2433 - accuracy: 0.3929\n",
            "Epoch 2/10\n",
            "9/9 [==============================] - 4s 411ms/step - loss: 15.1346 - accuracy: 0.5000\n",
            "Epoch 3/10\n",
            "9/9 [==============================] - 6s 599ms/step - loss: 5.5759 - accuracy: 0.5893\n",
            "Epoch 4/10\n",
            "9/9 [==============================] - 4s 406ms/step - loss: 2.4349 - accuracy: 0.7000\n",
            "Epoch 5/10\n",
            "9/9 [==============================] - 4s 405ms/step - loss: 0.7474 - accuracy: 0.7929\n",
            "Epoch 6/10\n",
            "9/9 [==============================] - 5s 602ms/step - loss: 0.4099 - accuracy: 0.8679\n",
            "Epoch 7/10\n",
            "9/9 [==============================] - 4s 405ms/step - loss: 0.2911 - accuracy: 0.9393\n",
            "Epoch 8/10\n",
            "9/9 [==============================] - 4s 410ms/step - loss: 0.2290 - accuracy: 0.9429\n",
            "Epoch 9/10\n",
            "9/9 [==============================] - 5s 479ms/step - loss: 0.2459 - accuracy: 0.9321\n",
            "Epoch 10/10\n",
            "9/9 [==============================] - 4s 406ms/step - loss: 0.1504 - accuracy: 0.9607\n"
          ]
        },
        {
          "output_type": "execute_result",
          "data": {
            "text/plain": [
              "<keras.callbacks.History at 0x7fcacd30fd90>"
            ]
          },
          "metadata": {},
          "execution_count": 7
        }
      ]
    }
  ]
}